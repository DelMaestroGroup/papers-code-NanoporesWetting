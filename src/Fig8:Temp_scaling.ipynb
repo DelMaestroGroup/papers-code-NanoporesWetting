{
 "cells": [
  {
   "cell_type": "code",
   "execution_count": 1,
   "id": "9392ff0c-9cb4-4cdb-b949-9fd25a0e8c4b",
   "metadata": {},
   "outputs": [],
   "source": [
    "import numpy as np\n",
    "import matplotlib.pyplot as plt\n",
    "import matplotlib as mpl\n",
    "import scipy.integrate as intgr"
   ]
  },
  {
   "cell_type": "code",
   "execution_count": 2,
   "id": "47d41555-474f-45f3-9537-5a5cf89bb147",
   "metadata": {},
   "outputs": [],
   "source": [
    "plt.style.use('aps')\n",
    "mpl.rcParams[\"figure.figsize\"] = [3.4039, 2.10373]"
   ]
  },
  {
   "cell_type": "code",
   "execution_count": 3,
   "id": "068709f1-d7e1-41be-8af4-42eba8b5477e",
   "metadata": {},
   "outputs": [],
   "source": [
    "def normalize_psi_PIMC(psi, x):\n",
    "   int_psi_square = 2*np.pi*25*intgr.simpson(y = x*psi, x = x)\n",
    "   print(int_psi_square)\n",
    "   return int_psi_square"
   ]
  },
  {
   "cell_type": "code",
   "execution_count": 4,
   "id": "0a874631-45d3-419a-b146-4f92957e00fb",
   "metadata": {},
   "outputs": [
    {
     "name": "stdout",
     "output_type": "stream",
     "text": [
      "2.2521960152655205\n"
     ]
    },
    {
     "data": {
      "text/plain": [
       "np.float64(2.2521960152655205)"
      ]
     },
     "execution_count": 4,
     "metadata": {},
     "output_type": "execute_result"
    }
   ],
   "source": [
    "f2 = open('Temp-scaling/radial-N-reduce-72f43606-1e4c-47ab-b978-7ef5390498eb.dat','r')\n",
    "lines = f2.readlines()\n",
    "x1h = np.array([])\n",
    "y1h = np.array([])\n",
    "z1h = np.array([])\n",
    "for line in lines[3:]:\n",
    "    p = line.split()\n",
    "    x1h = np.append(x1h,float(p[0]))\n",
    "    y1h = np.append(y1h,float(p[1]))\n",
    "    z1h = np.append(z1h,float(p[2]))\n",
    "f2.close()\n",
    "normalize_psi_PIMC(y1h,x1h)"
   ]
  },
  {
   "cell_type": "code",
   "execution_count": 5,
   "id": "e31b3576-5801-4be0-8a9b-5362a60ead52",
   "metadata": {},
   "outputs": [
    {
     "name": "stdout",
     "output_type": "stream",
     "text": [
      "2.5843438198917466\n"
     ]
    },
    {
     "data": {
      "text/plain": [
       "np.float64(2.5843438198917466)"
      ]
     },
     "execution_count": 5,
     "metadata": {},
     "output_type": "execute_result"
    }
   ],
   "source": [
    "f2 = open('Temp-scaling/radial-N-reduce-eda87961-ab01-409d-9e2a-dba30e7c628d.dat','r')\n",
    "lines = f2.readlines()\n",
    "x2 = np.array([])\n",
    "y2 = np.array([])\n",
    "z2 = np.array([])\n",
    "for line in lines[3:]:\n",
    "    p = line.split()\n",
    "    x2 = np.append(x2,float(p[0]))\n",
    "    y2 = np.append(y2,float(p[1]))\n",
    "    z2 = np.append(z2,float(p[2]))\n",
    "f2.close()\n",
    "normalize_psi_PIMC(y2,x2)"
   ]
  },
  {
   "cell_type": "code",
   "execution_count": 6,
   "id": "d233b7ee-65e8-46ab-9b3a-4693fe95a908",
   "metadata": {},
   "outputs": [
    {
     "name": "stdout",
     "output_type": "stream",
     "text": [
      "1.8053276645699636\n"
     ]
    },
    {
     "data": {
      "text/plain": [
       "np.float64(1.8053276645699636)"
      ]
     },
     "execution_count": 6,
     "metadata": {},
     "output_type": "execute_result"
    }
   ],
   "source": [
    "f2 = open('Temp-scaling/radial-N-reduce-f3eb5a42-3f7e-499f-8fd5-fe4e925f6eb5.dat','r')\n",
    "lines = f2.readlines()\n",
    "x1 = np.array([])\n",
    "y1 = np.array([])\n",
    "z1 = np.array([])\n",
    "for line in lines[3:]:\n",
    "    p = line.split()\n",
    "    x1 = np.append(x1,float(p[0]))\n",
    "    y1 = np.append(y1,float(p[1]))\n",
    "    z1 = np.append(z1,float(p[2]))\n",
    "f2.close()\n",
    "normalize_psi_PIMC(y1,x1)"
   ]
  },
  {
   "cell_type": "code",
   "execution_count": 9,
   "id": "6af21720-217c-4f3c-9e6c-ef08ba59b78d",
   "metadata": {},
   "outputs": [],
   "source": [
    "with plt.style.context('aps'):\n",
    "    figsize = plt.rcParams['figure.figsize']\n",
    "    fig,ax = plt.subplots(figsize=(figsize[0],figsize[1]), constrained_layout=True)\n",
    "    ax.errorbar(x1,y1,z1,label='T=1 K',color='#5E4FA2',linestyle='solid',alpha=0.3)\n",
    "    ax.errorbar(x1h,y1h,z1h,label='T=1.5 K',color='#5E4FA2',linestyle='dashed',alpha=0.6)\n",
    "    ax.errorbar(x2,y2,z2,label='T=2 K',color='#5E4FA2',linestyle='dashdot',alpha=0.9)\n",
    "    ax.set_xlabel('$r$ [Å]')\n",
    "    ax.set_ylabel(r'$|\\psi(r)|^2$')\n",
    "    ax.set_xlim(0,5.9)\n",
    "    ax.legend(handlelength = 1.5)\n",
    "    #plt.show()\n",
    "    plt.savefig('Temperature_scaling.pdf')"
   ]
  },
  {
   "cell_type": "code",
   "execution_count": null,
   "id": "efd85797-ee84-48a4-9752-0d1d4280282b",
   "metadata": {},
   "outputs": [],
   "source": []
  },
  {
   "cell_type": "code",
   "execution_count": null,
   "id": "765bc172-c472-4bda-814e-b55582ce102f",
   "metadata": {},
   "outputs": [],
   "source": []
  }
 ],
 "metadata": {
  "kernelspec": {
   "display_name": "Python 3 (ipykernel)",
   "language": "python",
   "name": "python3"
  },
  "language_info": {
   "codemirror_mode": {
    "name": "ipython",
    "version": 3
   },
   "file_extension": ".py",
   "mimetype": "text/x-python",
   "name": "python",
   "nbconvert_exporter": "python",
   "pygments_lexer": "ipython3",
   "version": "3.10.12"
  }
 },
 "nbformat": 4,
 "nbformat_minor": 5
}
