{
 "cells": [
  {
   "cell_type": "code",
   "execution_count": 19,
   "id": "0d2c8e3a-fa9b-4913-b5d5-dba25eae7830",
   "metadata": {},
   "outputs": [],
   "source": [
    "import numpy as np\n",
    "import matplotlib.pyplot as plt \n",
    "import matplotlib as mpl"
   ]
  },
  {
   "cell_type": "code",
   "execution_count": 20,
   "id": "8d412fa2-f486-4d07-8536-011d311f01b6",
   "metadata": {},
   "outputs": [],
   "source": [
    "plt.style.use('aps')\n",
    "mpl.rcParams[\"figure.figsize\"] = [3.4039, 2.10373]"
   ]
  },
  {
   "cell_type": "code",
   "execution_count": 21,
   "id": "9be67504-5913-4694-aeb1-40afb6c4dfa8",
   "metadata": {},
   "outputs": [],
   "source": [
    "f2 = open('beta-and-tau-scaling/estimator-T-reduce.dat','r')\n",
    "lines = f2.readlines()\n",
    "T = np.array([])\n",
    "E = np.array([])\n",
    "delE = np.array([])\n",
    "for line in lines[1:]:\n",
    "    p = line.split()\n",
    "    T = np.append(T,float(p[0]))\n",
    "    E = np.append(E,float(p[9]))\n",
    "    delE = np.append(delE, float(p[10]))"
   ]
  },
  {
   "cell_type": "code",
   "execution_count": 22,
   "id": "cafe1245-c1e5-40d2-977c-c69ece6ebd91",
   "metadata": {},
   "outputs": [],
   "source": [
    "f2 = open('beta-and-tau-scaling/estimator-t-reduce.dat','r')\n",
    "lines = f2.readlines()\n",
    "t = np.array([])\n",
    "E2 = np.array([])\n",
    "delE2 = np.array([])\n",
    "for line in lines[1:]:\n",
    "    p = line.split()\n",
    "    t = np.append(t,float(p[0]))\n",
    "    E2 = np.append(E2,float(p[9]))\n",
    "    delE2 = np.append(delE2, float(p[10]))"
   ]
  },
  {
   "cell_type": "code",
   "execution_count": 18,
   "id": "6fa9e102-12c3-4bf8-8490-c9ce48f86838",
   "metadata": {},
   "outputs": [],
   "source": [
    "E = [-7.27885, -7.38351, -7.21670,-7.17305,-7.45234]\n",
    "delE = [0.10759, 0.21059,0.30700,0.40567,0.49879]\n",
    "beta = [5,10,15,20,25]"
   ]
  },
  {
   "cell_type": "code",
   "execution_count": 7,
   "id": "887b3a8a-4264-403c-be20-fa4b3511c8f6",
   "metadata": {},
   "outputs": [],
   "source": [
    "E2 = [-8.74453, -7.17305, -7.03115,-7.16265,-7.24268]\n",
    "delE2 = [1.29035, 0.40567,0.11490,0.06170,0.03766]\n",
    "tau = [0.001,0.002,0.005,0.01,0.02]"
   ]
  },
  {
   "cell_type": "code",
   "execution_count": 24,
   "id": "7cc9cdc1-f392-4f19-959a-7062c8dc6857",
   "metadata": {},
   "outputs": [
    {
     "data": {
      "image/png": "[encoded data removed]",
      "text/plain": [
       "<Figure size 680.78x210.373 with 2 Axes>"
      ]
     },
     "metadata": {},
     "output_type": "display_data"
    }
   ],
   "source": [
    "with plt.style.context('aps'):\n",
    "    figsize = plt.rcParams['figure.figsize']\n",
    "    fig,(ax1,ax2) = plt.subplots(1,2,figsize=(2*figsize[0],figsize[1]), sharey = True, constrained_layout=True)\n",
    "    ax1.errorbar(1.0/T,E,yerr = delE)\n",
    "    ax1.tick_params(labelsize=12)\n",
    "    ax2.errorbar(t,E2,yerr = delE2)\n",
    "    ax2.tick_params(labelsize=12)\n",
    "    ax1.set_xlabel(r'$\\beta$',fontsize=12)\n",
    "    ax2.set_xlabel(r'$\\tau$',fontsize=12)\n",
    "    ax1.set_ylabel('E',fontsize=12)\n",
    "    plt.savefig(\"scaling.pdf\")\n",
    "    plt.show()"
   ]
  },
  {
   "cell_type": "code",
   "execution_count": null,
   "id": "e35b20ab-c668-4479-8580-9d2ae795d1c5",
   "metadata": {},
   "outputs": [],
   "source": []
  }
 ],
 "metadata": {
  "kernelspec": {
   "display_name": "Python 3 (ipykernel)",
   "language": "python",
   "name": "python3"
  },
  "language_info": {
   "codemirror_mode": {
    "name": "ipython",
    "version": 3
   },
   "file_extension": ".py",
   "mimetype": "text/x-python",
   "name": "python",
   "nbconvert_exporter": "python",
   "pygments_lexer": "ipython3",
   "version": "3.10.12"
  }
 },
 "nbformat": 4,
 "nbformat_minor": 5
}
