{
 "cells": [
  {
   "cell_type": "markdown",
   "id": "b2a699db-1dfd-476a-b37c-8976e927a7ce",
   "metadata": {},
   "source": [
    "# Download Raw QMC Data\n",
    "\n",
    "The raw (unprocessed) QMC data can be found online at:\n",
    "\n",
    "[![DOI](https://zenodo.org/badge/DOI/10.5281/zenodo.17108613.svg)](https://doi.org/10.5281/zenodo.17108613)\n",
    "\n",
    "All processed/reduced data files necessary for producing plots in the paper are included in the repository at `../data`.  However, you can run the code below to download the data for local processing via the `pimcscripts` module.  After decompression this constitutes about `20GB` of data.\n",
    "\n",
    "Requires installation of the [zenodo_get](https://github.com/dvolgyes/zenodo_get/) package."
   ]
  },
  {
   "cell_type": "markdown",
   "id": "1ca17fad-6b07-4c1c-9f23-456088ff156b",
   "metadata": {},
   "source": [
    "## Download the raw data from zenodo"
   ]
  },
  {
   "cell_type": "code",
   "execution_count": 4,
   "id": "dbed29f1-24a9-4bbc-9f77-f9a8ce51937c",
   "metadata": {},
   "outputs": [
    {
     "name": "stdout",
     "output_type": "stream",
     "text": [
      "mkdir: cannot create directory ‘../data/raw’: File exists\n",
      "Title: Raw data for Localization and Wetting of 4He Inside Pre-plated Nanopores\n",
      "Keywords: quantum monte Carlo, superfluid, Luttinger liquid\n",
      "Publication date: 2025-09-12\n",
      "DOI: 10.5281/zenodo.17108613\n",
      "Total size: 19.2 GB\n",
      "\n",
      "Downloading (1/4):\n",
      "File: qmc_Ar.tar.gz (6.1 GB)\n",
      "Link: https://zenodo.org/api/records/17108613/files/qmc_Ar.tar.gz/content\n",
      "100% [................................................] 6101881036 / 6101881036\n",
      "Checksum is correct for qmc_Ar.tar.gz. (ce3a857e2fa6dc8b50db0735abc6da39)\n",
      "\n",
      "Downloading (2/4):\n",
      "File: qmc_Cs.tar.gz (13.1 GB)\n",
      "Link: https://zenodo.org/api/records/17108613/files/qmc_Cs.tar.gz/content\n",
      "100% [..............................................] 13124068229 / 13124068229\n",
      "Checksum is correct for qmc_Cs.tar.gz. (b356a7a471538fffc161fa5e48b9ec29)\n",
      "\n",
      "Downloading (3/4):\n",
      "File: filelist.txt (122.0 kB)\n",
      "Link: https://zenodo.org/api/records/17108613/files/filelist.txt/content\n",
      "100% [........................................................] 121952 / 121952\n",
      "Checksum is correct for filelist.txt. (4ee47980fd926ddd8718714060d262f5)\n",
      "\n",
      "Downloading (4/4):\n",
      "File: qmc_temp.tar.gz (20.5 MB)\n",
      "Link: https://zenodo.org/api/records/17108613/files/qmc_temp.tar.gz/content\n",
      "100% [....................................................] 20487122 / 20487122\n",
      "Checksum is correct for qmc_temp.tar.gz. (f4b0beb33db4d97d5c67d0d9d1d4ac73)\n",
      "\n",
      "All specified files have been processed.\n"
     ]
    }
   ],
   "source": [
    "!mkdir ../data/raw\n",
    "!zenodo_get --doi=10.5281/zenodo.17108613 --output-dir=\"../data\""
   ]
  },
  {
   "cell_type": "markdown",
   "id": "328bba21-015a-4523-b2f3-a8e15c13056f",
   "metadata": {},
   "source": [
    "## Decompress in the `../data` directory"
   ]
  },
  {
   "cell_type": "code",
   "execution_count": 6,
   "id": "1176c930-23cd-4d26-ab02-b13d7605f4a0",
   "metadata": {},
   "outputs": [],
   "source": [
    "for name in [\"qmc_Ar\",\"qmc_Cs\",\"qmc_temp\"]:\n",
    "    dirName = f'../data/{name}.tar.gz'\n",
    "    !tar -xzf $dirName -C \"../data/\""
   ]
  },
  {
   "cell_type": "code",
   "execution_count": null,
   "id": "a4f0af45-b925-4795-a583-f09db3073d6f",
   "metadata": {},
   "outputs": [],
   "source": []
  }
 ],
 "metadata": {
  "kernelspec": {
   "display_name": "Python 3 (ipykernel)",
   "language": "python",
   "name": "python3"
  },
  "language_info": {
   "codemirror_mode": {
    "name": "ipython",
    "version": 3
   },
   "file_extension": ".py",
   "mimetype": "text/x-python",
   "name": "python",
   "nbconvert_exporter": "python",
   "pygments_lexer": "ipython3",
   "version": "3.10.12"
  }
 },
 "nbformat": 4,
 "nbformat_minor": 5
}
