{
 "cells": [
  {
   "cell_type": "code",
   "execution_count": 2,
   "id": "db168480-490a-4630-94ca-4bafaa0d0b97",
   "metadata": {},
   "outputs": [],
   "source": [
    "import numpy as np\n",
    "import matplotlib.pyplot as plt\n",
    "import matplotlib as mpl\n",
    "import scipy.integrate as intgr\n",
    "#Monkeypatch to fix heprops\n",
    "from scipy.special import factorial\n",
    "np.math = type('math', (), {})()\n",
    "np.math.factorial = factorial\n",
    "\n",
    "from heprops import helium as hel"
   ]
  },
  {
   "cell_type": "code",
   "execution_count": 3,
   "id": "3675f7a9-40b0-4ac5-8d84-e74fcf821493",
   "metadata": {},
   "outputs": [],
   "source": [
    "plt.style.use('../include/aps.mplstyle')\n",
    "mpl.rcParams[\"figure.figsize\"] = [3.4039, 2.10373]"
   ]
  },
  {
   "cell_type": "code",
   "execution_count": 4,
   "id": "b018a752-e584-4241-9c7a-0ee194e8b536",
   "metadata": {},
   "outputs": [
    {
     "name": "stdout",
     "output_type": "stream",
     "text": [
      "Skip line\n",
      "1.4\n"
     ]
    },
    {
     "data": {
      "text/plain": [
       "[<matplotlib.lines.Line2D at 0x7e496e4dfa60>]"
      ]
     },
     "execution_count": 4,
     "metadata": {},
     "output_type": "execute_result"
    },
    {
     "data": {
      "image/png": "[encoded data removed]",
      "text/plain": [
       "<Figure size 340.39x210.373 with 1 Axes>"
      ]
     },
     "metadata": {},
     "output_type": "display_data"
    }
   ],
   "source": [
    "f2 = open('../data/pimc/CsR8/radial-u-reduce.dat','r')\n",
    "lines = f2.readlines()\n",
    "u = np.array([])\n",
    "N = np.array([])\n",
    "delN = np.array([])\n",
    "\n",
    "readindex = 0\n",
    "rval = len(lines) - 2\n",
    "\n",
    "for line in lines:\n",
    "    if(readindex == 0):\n",
    "        p = line.split()\n",
    "        for j in range(1,len(p)):\n",
    "            if (j % 3 == 0):\n",
    "                u = np.append(u,float(p[j]))\n",
    "        r = np.zeros((len(u),rval))\n",
    "        rho = np.zeros((len(u),rval))\n",
    "        delrho = np.zeros((len(u),rval))\n",
    "    elif(readindex == 1):\n",
    "        print(\"Skip line\")\n",
    "    else:\n",
    "        #print(r)\n",
    "        p = line.split()\n",
    "        #print(p)\n",
    "        #print(readindex)\n",
    "        ind_arr = 3*np.arange(0,int(len(p)/3),1)\n",
    "        for j in ind_arr:\n",
    "            ind = int(j/3)\n",
    "            r[ind,readindex - 2] = p[j]\n",
    "            #print(p[j+1])\n",
    "            rho[ind,readindex - 2] = p[j+1]\n",
    "            delrho[ind,readindex - 2] = p[j+2] \n",
    "        #print(rho)\n",
    "    readindex = readindex + 1\n",
    "f2.close()\n",
    "plt.plot(r[len(u)-10,:],rho[len(u)-10,:])\n",
    "refR = len(u)-10\n",
    "#print(rho[refR,:])\n",
    "#minR = np.argmin(rho[refR,:])\n",
    "#minRval = r[refR,minR]\n",
    "minRval = 1.4\n",
    "print(minRval)\n",
    "rho1d = np.array([])\n",
    "for i in range(len(u)):\n",
    "    indx = r[i,:] < minRval\n",
    "    rho1d = np.append(rho1d,2*np.pi*intgr.simpson(y = r[i,indx]*rho[i,indx], x = r[i,indx]))\n",
    "sind = np.argsort(u)\n",
    "uCs = u[sind]\n",
    "rho1dCs = rho1d[sind]\n",
    "#rhostar = max(rho1dCs)\n",
    "#rho1dCs = rho1dCs/rhostar\n",
    "PCs = hel.pressure(uCs,2)\n",
    "PCsmax = max(PCs)\n",
    "PCsmin = min(PCs)\n",
    "PCsPlot = (PCs - PCsmin)/PCsmax\n",
    "plt.plot(r[refR,:],rho[refR,:])\n",
    "#print(rho1dCs)\n",
    "#u = np.delete(u,[16,17,18,19,20,21])\n",
    "#rho1d = np.delete(rho1d,[16,17,18,19,20,21])\n",
    "#print(u[16])\n",
    "#print(rho1d[16])\n",
    "\n",
    "#plt.semilogy(u,hel.pressure(u,2))\n",
    "#plt.yscale(\"log\")\n",
    "#plt.semilogx(hel.pressure(u,2),rho1d)\n",
    "#plt.plot(r[i],rho[i],label='u = %.4f'%(u[i]))\n",
    "#plt.legend()\n",
    "#plt.savefig('rhovsPCsR6.pdf')\n",
    "#plt.show("
   ]
  },
  {
   "cell_type": "code",
   "execution_count": 6,
   "id": "3828c44d-e339-496b-a618-43811be627d0",
   "metadata": {
    "scrolled": true
   },
   "outputs": [
    {
     "data": {
      "image/png": "[encoded data removed]",
      "text/plain": [
       "<Figure size 340.39x210.373 with 1 Axes>"
      ]
     },
     "metadata": {},
     "output_type": "display_data"
    }
   ],
   "source": [
    "with plt.style.context('aps'):\n",
    "    figsize = plt.rcParams['figure.figsize']\n",
    "    fig,ax = plt.subplots(figsize=(figsize[0],figsize[1]), constrained_layout=True)\n",
    "    ax.plot(uCs,rho1dCs)\n",
    "    #ax.semilogx(PCsPlot,rho1dCs,label=r'Cs',color='#5E4FA2')\n",
    "    #ax.semilogx(PMgPlot,rho1dMg,label=r'Mg',color='#79C9A4')\n",
    "    #ax.semilogx(PArPlot,rho1dAr,label=r'Ar',color='#D7414E')\n",
    "    #ax.set_ylabel(r'$\\frac{\\rho_{1D}}{\\rho_{1D}*}$')\n",
    "    ax.set_xlabel(r'$(P - P_{\\rm min})/P_{\\rm max}$')\n",
    "    #ax.set_xlim(1,1)\n",
    "    ax.set_ylabel(r'$\\rho_{1D}$ [Å$^{-1}]$')\n",
    "    #ax.set_xlabel(r'$P$')\n",
    "    #plt.legend(title=\"R = 8 Å\",handlelength=1)\n",
    "    plt.savefig('../figures/R8rho1d.pdf')"
   ]
  },
  {
   "cell_type": "code",
   "execution_count": null,
   "id": "bef5f077-784d-4339-99fa-63b9b6847cdb",
   "metadata": {},
   "outputs": [],
   "source": []
  },
  {
   "cell_type": "code",
   "execution_count": null,
   "id": "59d3f641-fc87-4c20-b4f5-314ab2fceb7c",
   "metadata": {},
   "outputs": [],
   "source": []
  }
 ],
 "metadata": {
  "kernelspec": {
   "display_name": "Python 3 (ipykernel)",
   "language": "python",
   "name": "python3"
  },
  "language_info": {
   "codemirror_mode": {
    "name": "ipython",
    "version": 3
   },
   "file_extension": ".py",
   "mimetype": "text/x-python",
   "name": "python",
   "nbconvert_exporter": "python",
   "pygments_lexer": "ipython3",
   "version": "3.10.12"
  }
 },
 "nbformat": 4,
 "nbformat_minor": 5
}
