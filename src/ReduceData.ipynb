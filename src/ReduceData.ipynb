{
 "cells": [
  {
   "cell_type": "markdown",
   "id": "60cb03fa-a18e-419c-b675-2cf4bfbb24b7",
   "metadata": {},
   "source": [
    "# Merge and Reduce Data\n",
    "\n",
    "The below code performs reduction on the raw QMC data that can be downloaded via the [download_QMC_data.ipynb](./download_QMC_data.ipynb) script. Running this is *not* necessary to reproduce the final plots which appear in the paper."
   ]
  },
  {
   "cell_type": "code",
   "execution_count": null,
   "id": "f126fbce",
   "metadata": {},
   "outputs": [],
   "source": [
    "import numpy as np\n",
    "import re,glob,os\n",
    "import dgutils\n",
    "import subprocess, sys\n",
    "from pimcscripts import pimchelp\n",
    "from collections import defaultdict\n",
    "import linecache\n",
    "\n",
    "%config InlineBackend.figure_format = 'svg'\n",
    "%matplotlib inline\n",
    "\n",
    "colors = dgutils.colors.get_linear_colors('Spectral',10)\n",
    "import importlib"
   ]
  },
  {
   "cell_type": "code",
   "execution_count": null,
   "id": "ef590cfe-5e84-4c7b-ac1a-0b2fc5b3c7f5",
   "metadata": {},
   "outputs": [],
   "source": [
    "!mkdir ../data/pimc\n",
    "my_env = os.environ.copy()\n",
    "pimc_bin_path = os.path.dirname(subprocess.check_output(['which', 'reduce-one.py'], env=my_env).decode('ascii').strip())\n"
   ]
  },
  {
   "cell_type": "markdown",
   "id": "76ee75fd-b656-42ee-aaa8-c46a74d01ae7",
   "metadata": {},
   "source": [
    "## Reduce QMC Results over Chemical Potential"
   ]
  },
  {
   "cell_type": "code",
   "execution_count": null,
   "id": "436df2ad",
   "metadata": {},
   "outputs": [],
   "source": [
    "%%time\n",
    "\n",
    "for el in [\"Ar\",\"Cs\"]:\n",
    "    for R in [6,8]:\n",
    "        if(el == \"Ar\" and R == 6):\n",
    "            raw_data_dir=f\"../data/{el}/R_eq_{R}.0/MERGED/\"\n",
    "        else:\n",
    "            raw_data_dir=f\"../data/{el}/R_eq_{R}.0\"\n",
    "        print(raw_data_dir)\n",
    "        dest_dir = f\"../data/pimc/\"\n",
    "        reduce_command = f\"{pimc_bin_path}/reduce-one.py -r u {raw_data_dir}\"\n",
    "        stream = os.popen(reduce_command)\n",
    "        output = stream.read()\n",
    "        print(output)"
   ]
  },
  {
   "cell_type": "markdown",
   "id": "b470fa64-8daa-4b59-8cc6-a851fe594a2a",
   "metadata": {},
   "source": [
    "## Copy Merged and Reduced Data into Repository"
   ]
  },
  {
   "cell_type": "code",
   "execution_count": null,
   "id": "b19dfa30-10a2-42ca-9379-391427d237cf",
   "metadata": {},
   "outputs": [],
   "source": [
    "for el in [\"Ar\",\"Cs\"]:\n",
    "    for R in [6,8]:\n",
    "        if(el == \"Ar\" and R == 6):\n",
    "            src_dir=f\"../data/{el}/R_eq_{R}.0/MERGED/\"\n",
    "        else:\n",
    "            src_dir=f\"../data/{el}/R_eq_{R}.0\"\n",
    "        dest_dir = f\"../data/pimc/{el}R{R}\"\n",
    "        !mkdir $dest_dir\n",
    "        !cp $src_dir/*-u-reduce.dat $dest_dir/ "
   ]
  },
  {
   "cell_type": "markdown",
   "id": "55d609c7-36f0-4271-aa15-c8ccd24d7afb",
   "metadata": {},
   "source": [
    "## Reduce QMC Results over Number"
   ]
  },
  {
   "cell_type": "code",
   "execution_count": null,
   "id": "d02edb9a-faad-437a-ac8c-6b0f4311d2fa",
   "metadata": {},
   "outputs": [],
   "source": [
    "!mv ../data/temp-decrease ../data/tempdecrease\n",
    "raw_data_dir=f\"../data/tempdecrease\"\n",
    "for PIMCID in [\"7ca726e1-0504-4b37-a342-77c44d0978b6\", \"aae54738-4649-463a-88db-ac89832b906d\", \"4cb02885-e62e-43a2-91a3-857124b3016c\"]:\n",
    "    reduce_command = f\"{pimc_bin_path}/reduce-one.py -r N --canonical -i {PIMCID} {raw_data_dir}\"\n",
    "    stream = os.popen(reduce_command)\n",
    "    output = stream.read()\n",
    "    print(output)"
   ]
  },
  {
   "cell_type": "markdown",
   "id": "66fa5d68-e958-4e97-9511-e33116c42362",
   "metadata": {},
   "source": [
    "## Copy reduced data"
   ]
  },
  {
   "cell_type": "code",
   "execution_count": null,
   "id": "521857a0-5ff8-421c-be52-b93bf4743817",
   "metadata": {},
   "outputs": [],
   "source": [
    "src_dir=f\"../data/tempdecrease\"\n",
    "dest_dir = f\"../data/pimc/temp-decrease\"\n",
    "!mkdir $dest_dir\n",
    "!cp $src_dir/radial-N-reduce*.dat $dest_dir/ "
   ]
  },
  {
   "cell_type": "code",
   "execution_count": null,
   "id": "22a65714-1f33-48d9-bc19-44b317bc7435",
   "metadata": {},
   "outputs": [],
   "source": []
  }
 ],
 "metadata": {
  "kernelspec": {
   "display_name": "Python 3 (ipykernel)",
   "language": "python",
   "name": "python3"
  },
  "language_info": {
   "codemirror_mode": {
    "name": "ipython",
    "version": 3
   },
   "file_extension": ".py",
   "mimetype": "text/x-python",
   "name": "python",
   "nbconvert_exporter": "python",
   "pygments_lexer": "ipython3",
   "version": "3.10.12"
  }
 },
 "nbformat": 4,
 "nbformat_minor": 5
}
