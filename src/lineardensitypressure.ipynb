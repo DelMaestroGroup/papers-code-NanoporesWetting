{
 "cells": [
  {
   "cell_type": "code",
   "execution_count": 6,
   "id": "db168480-490a-4630-94ca-4bafaa0d0b97",
   "metadata": {},
   "outputs": [],
   "source": [
    "import numpy as np\n",
    "import matplotlib.pyplot as plt\n",
    "import matplotlib as mpl\n",
    "import scipy.integrate as intgr\n",
    "#Monkeypatch to fix heprops\n",
    "from scipy.special import factorial\n",
    "np.math = type('math', (), {})()\n",
    "np.math.factorial = factorial\n",
    "\n",
    "from heprops import helium as hel"
   ]
  },
  {
   "cell_type": "code",
   "execution_count": 8,
   "id": "b018a752-e584-4241-9c7a-0ee194e8b536",
   "metadata": {},
   "outputs": [
    {
     "name": "stdout",
     "output_type": "stream",
     "text": [
      "Skip line\n",
      "1.4\n",
      "[  0.    0.1   0.1   0.1   0.2   0.2   0.2   0.3   0.3   0.3   0.4   0.4\n",
      "   0.4   0.5   0.5   0.5   0.7   0.9   1.1   1.3   1.5   1.5   1.9   1.9\n",
      "   2.1   2.1   2.5   2.5   2.8   2.8  -0.1  -0.1  -0.1  -0.2  -0.2  -0.2\n",
      "  -0.3  -0.3  -0.3  -0.4  -0.4  -0.4  -0.5  -0.5  -0.5  -0.6  -0.6  -0.6\n",
      "  -0.7  -0.7  -0.7  -0.8  -0.8  -0.8  -0.9  -0.9  -0.9  -1.   -1.   -1.\n",
      "  -1.1  -1.1  -1.1  -1.2  -1.2  -1.2  -1.3  -1.3  -1.3  -1.4  -1.4  -1.4\n",
      "  -1.5  -1.5  -1.5  -1.6  -1.6  -1.6  -1.7  -1.7  -1.7  -1.8  -1.8  -1.8\n",
      "  -1.9  -1.9  -1.9  -2.   -2.   -2.   -2.1  -2.1  -2.1  -2.2  -2.2  -2.2\n",
      "  -2.3  -2.3  -2.3  -2.4  -2.4  -2.4  -2.5  -2.5  -2.5  -2.6  -2.6  -2.6\n",
      "  -2.7  -2.8  -2.9  -3.   -3.1  -3.2  -3.3  -3.4  -3.5  -3.5  -3.6  -3.7\n",
      "  -3.8  -3.9  -4.   -4.1  -4.2  -4.3  -4.4  -4.5  -4.6  -4.7  -4.8  -4.9\n",
      "  -5.   -5.1  -5.2  -5.3  -5.4  -5.5  -5.6  -5.7  -5.8  -5.9  -6.   -6.1\n",
      "  -6.2  -6.3  -6.4  -6.5  -6.6  -6.7  -6.8  -6.9  -7.   -7.1  -7.2  -7.3\n",
      "  -7.4  -7.5  -7.6  -7.7  -7.8  -7.9  -8.   -8.1  -8.2  -8.3  -8.4  -8.5\n",
      "  -8.6  -8.7  -8.8  -8.9  -9.   -9.1  -9.2  -9.3  -9.4  -9.5  -9.6  -9.7\n",
      "  -9.8  -9.9 -10.  -10.2 -10.4 -10.6 -10.8 -11. ]\n",
      "Skip line\n",
      "1.4\n",
      "[0.14027071 0.13879383 0.13512685 0.13215767 0.13103913 0.12915301\n",
      " 0.12764811 0.12460506 0.12029108 0.12058768 0.11790845 0.11572693\n",
      " 0.1150345  0.11222473 0.11158556 0.1093186  0.10627733 0.10458093\n",
      " 0.10410159 0.10284167 0.10061831 0.09987778 0.09858288 0.0960552\n",
      " 0.09536971 0.09379291 0.09269914 0.09193356 0.09052458 0.08991296\n",
      " 0.08815987 0.08689373 0.08589542 0.08483707 0.08422306 0.08281022\n",
      " 0.08177819 0.08047598 0.0793622  0.07799563 0.0764805  0.07496584\n",
      " 0.07338094 0.07151617 0.06887223 0.06610937 0.06337534 0.05963578\n",
      " 0.05597486 0.05164298 0.047548   0.04306706 0.0390836  0.03503112\n",
      " 0.03158377 0.02833598 0.02558493 0.02317161 0.02105089 0.01917046\n",
      " 0.01757337 0.01604229 0.01481094 0.01368454 0.01265993 0.01175318\n",
      " 0.01093303 0.01016128 0.00948891 0.00883412 0.0082594  0.00774604\n",
      " 0.00726318 0.00680485 0.00637912 0.0056368  0.00498348 0.00443343\n",
      " 0.0039542  0.00354529 0.22477079 0.2241653  0.22964248 0.23069286\n",
      " 0.23259139 0.23426753 0.23339273 0.23788827 0.23795305 0.24046923\n",
      " 0.24303255 0.24313932 0.24306051 0.24380249 0.24548418 0.21909095\n",
      " 0.2175488  0.21228435 0.20990402 0.21165007 0.20526276 0.20241522\n",
      " 0.1971937  0.19482776 0.19032796 0.19204    0.18643387 0.18240068\n",
      " 0.18005223 0.17762911 0.17266319 0.16845522 0.16725087 0.16400987\n",
      " 0.16061302 0.15921846 0.15550261 0.15296966 0.15071818 0.14776416\n",
      " 0.14398499]\n",
      "[-11.  -10.8 -10.6 -10.4 -10.2 -10.   -9.9  -9.8  -9.7  -9.6  -9.5  -9.4\n",
      "  -9.3  -9.2  -9.1  -9.   -8.9  -8.8  -8.7  -8.6  -8.5  -8.4  -8.3  -8.2\n",
      "  -8.1  -8.   -7.9  -7.8  -7.7  -7.6  -7.5  -7.4  -7.3  -7.2  -7.1  -7.\n",
      "  -6.9  -6.8  -6.7  -6.6  -6.5  -6.4  -6.3  -6.2  -6.1  -6.   -5.9  -5.8\n",
      "  -5.7  -5.6  -5.5  -5.4  -5.3  -5.2  -5.1  -5.   -4.9  -4.8  -4.7  -4.6\n",
      "  -4.5  -4.4  -4.3  -4.2  -4.1  -4.   -3.9  -3.8  -3.7  -3.6  -3.5  -3.5\n",
      "  -3.4  -3.3  -3.2  -3.1  -3.   -2.9  -2.8  -2.7  -2.6  -2.5  -2.4  -2.3\n",
      "  -2.2  -2.1  -2.   -1.9  -1.8  -1.7  -1.6  -1.5  -1.4  -1.3  -1.2  -1.1\n",
      "  -1.   -0.9  -0.8  -0.7  -0.6  -0.5  -0.4  -0.3  -0.2  -0.1   0.1   0.2\n",
      "   0.3   0.4   0.5   0.7   0.9   1.1   1.3   1.5   1.9   2.1   2.5   2.5\n",
      "   2.8]\n"
     ]
    },
    {
     "data": {
      "text/plain": [
       "[<matplotlib.lines.Line2D at 0x7eaef3588ac0>]"
      ]
     },
     "execution_count": 8,
     "metadata": {},
     "output_type": "execute_result"
    },
    {
     "data": {
      "image/png": "[encoded data removed]",
      "text/plain": [
       "<Figure size 340.39x210.373 with 1 Axes>"
      ]
     },
     "metadata": {},
     "output_type": "display_data"
    }
   ],
   "source": [
    "f2 = open('../data/pimc/CsR8/radial-u-reduce.dat','r')\n",
    "lines = f2.readlines()\n",
    "u = np.array([])\n",
    "N = np.array([])\n",
    "delN = np.array([])\n",
    "\n",
    "readindex = 0\n",
    "rval = len(lines) - 2\n",
    "\n",
    "for line in lines:\n",
    "    if(readindex == 0):\n",
    "        p = line.split()\n",
    "        for j in range(1,len(p)):\n",
    "            if (j % 3 == 0):\n",
    "                u = np.append(u,float(p[j]))\n",
    "        r = np.zeros((len(u),rval))\n",
    "        rho = np.zeros((len(u),rval))\n",
    "        delrho = np.zeros((len(u),rval))\n",
    "    elif(readindex == 1):\n",
    "        print(\"Skip line\")\n",
    "    else:\n",
    "        #print(r)\n",
    "        p = line.split()\n",
    "        #print(p)\n",
    "        #print(readindex)\n",
    "        ind_arr = 3*np.arange(0,int(len(p)/3),1)\n",
    "        for j in ind_arr:\n",
    "            ind = int(j/3)\n",
    "            r[ind,readindex - 2] = p[j]\n",
    "            #print(p[j+1])\n",
    "            rho[ind,readindex - 2] = p[j+1]\n",
    "            delrho[ind,readindex - 2] = p[j+2] \n",
    "        #print(rho)\n",
    "    readindex = readindex + 1\n",
    "f2.close()\n",
    "#u = u[108:]\n",
    "#rho = rho[108:,]\n",
    "minRval = 1.4\n",
    "print(minRval)\n",
    "rho1d = np.array([])\n",
    "for i in range(len(u)):\n",
    "    indx = r[i,:] < minRval\n",
    "    rho1d = np.append(rho1d,2*np.pi*intgr.simpson(y = r[i,indx]*rho[i,indx], x = r[i,indx]))\n",
    "print(u)\n",
    "u = u[108:]\n",
    "rho1d = rho1d[108:]\n",
    "f2 = open('../data/pimc/CsR8/radial-u-reduce2.dat','r')\n",
    "lines = f2.readlines()\n",
    "upr = np.array([])\n",
    "readindex = 0\n",
    "rval = len(lines) - 2\n",
    "\n",
    "for line in lines:\n",
    "    if(readindex == 0):\n",
    "        p = line.split()\n",
    "        for j in range(1,len(p)):\n",
    "            if (j % 3 == 0):\n",
    "                u = np.append(u,float(p[j]))\n",
    "                upr = np.append(upr,float(p[j]))\n",
    "        r = np.zeros((len(upr),rval))\n",
    "        rho = np.zeros((len(upr),rval))\n",
    "        delrho = np.zeros((len(upr),rval))\n",
    "    elif(readindex == 1):\n",
    "        print(\"Skip line\")\n",
    "    else:\n",
    "        #print(r)\n",
    "        p = line.split()\n",
    "        #print(p)\n",
    "        #print(readindex)\n",
    "        ind_arr = 3*np.arange(0,int(len(p)/3),1)\n",
    "        for j in ind_arr:\n",
    "            ind = int(j/3)\n",
    "            r[ind,readindex - 2] = p[j]\n",
    "            #print(p[j+1])\n",
    "            rho[ind,readindex - 2] = p[j+1]\n",
    "            delrho[ind,readindex - 2] = p[j+2] \n",
    "        #print(rho)\n",
    "    readindex = readindex + 1\n",
    "f2.close()\n",
    "#print(u)\n",
    "plt.plot(r[len(upr)-10,:],rho[len(upr)-10,:])\n",
    "refR = len(upr)-10\n",
    "#print(rho[refR,:])\n",
    "#minR = np.argmin(rho[refR,:])\n",
    "#minRval = r[refR,minR]\n",
    "minRval = 1.4\n",
    "print(minRval)\n",
    "for i in range(len(upr)):\n",
    "    indx = r[i,:] < minRval\n",
    "    rho1d = np.append(rho1d,2*np.pi*intgr.simpson(y = r[i,indx]*rho[i,indx], x = r[i,indx]))\n",
    "print(rho1d)\n",
    "sind = np.argsort(u,stable=True)\n",
    "uCs = u[sind]\n",
    "print(uCs)\n",
    "rho1dCs2 = rho1d[sind]\n",
    "#rhostar = max(rho1dCs)\n",
    "#rho1dCs = rho1dCs/rhostar\n",
    "PCs2 = hel.pressure(uCs,2)\n",
    "PCsmax = max(PCs2)\n",
    "PCsmin = min(PCs2)\n",
    "PCsPlot2 = (PCs2 - PCsmin)/PCsmax\n",
    "plt.plot(r[refR,:],rho[refR,:])"
   ]
  },
  {
   "cell_type": "code",
   "execution_count": 9,
   "id": "3828c44d-e339-496b-a618-43811be627d0",
   "metadata": {
    "scrolled": true
   },
   "outputs": [
    {
     "data": {
      "image/png": "[encoded data removed]",
      "text/plain": [
       "<Figure size 340.39x210.373 with 1 Axes>"
      ]
     },
     "metadata": {},
     "output_type": "display_data"
    }
   ],
   "source": [
    "figsize = plt.rcParams['figure.figsize']\n",
    "fig,ax = plt.subplots(figsize=(figsize[0],figsize[1]), constrained_layout=True)\n",
    "ax.plot(uCs,rho1dCs2,label=r'Cs',color='#5E4FA2')\n",
    "#ax.semilogx(PCsPlot,rho1dCs,label=r'Cs',color='#5E4FA2')\n",
    "#ax.semilogx(PMgPlot,rho1dMg,label=r'Mg',color='#79C9A4')\n",
    "#ax.semilogx(PArPlot,rho1dAr,label=r'Ar',color='#D7414E')\n",
    "#ax.set_ylabel(r'$\\frac{\\rho_{1D}}{\\rho_{1D}*}$')\n",
    "ax.set_xlabel(r'$\\frac{P - P_{min}}{P_{max}}$')\n",
    "#ax.set_xlim(1,1)\n",
    "ax.set_ylabel(r'$\\rho_{1D} (Å^{-1})$')\n",
    "#ax.set_xlabel(r'$P$')\n",
    "plt.legend(title=\"R = 8 Å\")\n",
    "plt.savefig('R8rho1d.pdf')"
   ]
  },
  {
   "cell_type": "code",
   "execution_count": null,
   "id": "bef5f077-784d-4339-99fa-63b9b6847cdb",
   "metadata": {},
   "outputs": [],
   "source": []
  },
  {
   "cell_type": "code",
   "execution_count": null,
   "id": "59d3f641-fc87-4c20-b4f5-314ab2fceb7c",
   "metadata": {},
   "outputs": [],
   "source": []
  }
 ],
 "metadata": {
  "kernelspec": {
   "display_name": "Python 3 (ipykernel)",
   "language": "python",
   "name": "python3"
  },
  "language_info": {
   "codemirror_mode": {
    "name": "ipython",
    "version": 3
   },
   "file_extension": ".py",
   "mimetype": "text/x-python",
   "name": "python",
   "nbconvert_exporter": "python",
   "pygments_lexer": "ipython3",
   "version": "3.10.12"
  }
 },
 "nbformat": 4,
 "nbformat_minor": 5
}
