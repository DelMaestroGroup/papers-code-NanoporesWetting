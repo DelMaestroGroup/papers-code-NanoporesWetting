{
 "cells": [
  {
   "cell_type": "code",
   "execution_count": 3,
   "id": "db168480-490a-4630-94ca-4bafaa0d0b97",
   "metadata": {},
   "outputs": [],
   "source": [
    "import numpy as np\n",
    "import matplotlib.pyplot as plt\n",
    "import matplotlib as mpl\n",
    "import scipy.integrate as intgr\n",
    "\n",
    "#Monkeypatch to fix heprops\n",
    "from scipy.special import factorial\n",
    "np.math = type('math', (), {})()\n",
    "np.math.factorial = factorial\n",
    "\n",
    "from heprops import helium as hel"
   ]
  },
  {
   "cell_type": "code",
   "execution_count": 4,
   "id": "3675f7a9-40b0-4ac5-8d84-e74fcf821493",
   "metadata": {},
   "outputs": [],
   "source": [
    "plt.style.use('aps')\n",
    "mpl.rcParams[\"figure.figsize\"] = [3.4039, 2.10373]"
   ]
  },
  {
   "cell_type": "code",
   "execution_count": 5,
   "id": "b018a752-e584-4241-9c7a-0ee194e8b536",
   "metadata": {},
   "outputs": [
    {
     "name": "stdout",
     "output_type": "stream",
     "text": [
      "[0.00000000e+00 2.46178884e-18 3.24525165e-17 3.97814376e-16\n",
      " 4.84883302e-15 5.90733408e-14 1.60578367e-13 7.19663079e-13\n",
      " 8.76729357e-12 2.38319752e-11 1.06807503e-10 4.78678022e-10\n",
      " 1.30118177e-09 3.53697878e-09 1.58516396e-08 7.10421280e-08\n",
      " 1.93112575e-07 5.24934770e-07 2.35260347e-06 6.39509362e-06\n",
      " 2.86621632e-05 7.79199063e-05 3.49411971e-04 9.50997735e-04\n",
      " 4.29163691e-03 1.18436067e-02 5.74665676e-02 3.45666652e-01\n",
      " 6.91226865e-01 1.00000000e+00]\n"
     ]
    }
   ],
   "source": [
    "f2 = open('../data/pimc/CsR8/estimator-u-reduce.dat','r')\n",
    "lines = f2.readlines()\n",
    "u = np.array([])\n",
    "N = np.array([])\n",
    "N2 = np.array([])\n",
    "rho = np.array([])\n",
    "delN = np.array([])\n",
    "for line in lines[1:]:\n",
    "    p = line.split()\n",
    "    u = np.append(u,float(p[0]))\n",
    "    N = np.append(N,float(p[19]))\n",
    "    N2 = np.append(N2, float(p[21]))\n",
    "    rho = np.append(rho, float(p[23]))\n",
    "    delN = np.append(delN,float(p[20]))\n",
    "f2.close()\n",
    "ind = np.argsort(u)\n",
    "uCs = u[ind]\n",
    "N = N[ind]\n",
    "N2 = N2[ind]\n",
    "rho = rho[ind]\n",
    "delN = delN[ind]\n",
    "kCs = np.divide((N2 - N**2),N**2)\n",
    "kCs = kCs/(2)\n",
    "kCs = kCs/max(kCs)\n",
    "#print(kCs)\n",
    "PCs = hel.pressure(uCs,2)\n",
    "PCsmax = max(PCs)\n",
    "PCsmin = min(PCs)\n",
    "PCsPlot = (PCs - PCsmin)/PCsmax\n",
    "#u = np.delete(u,4)\n",
    "#k = np.delete(k,4)\n",
    "f2 = open('../data/pimc/ArR8/estimator-u-reduce.dat','r')\n",
    "lines = f2.readlines()\n",
    "u = np.array([])\n",
    "N = np.array([])\n",
    "N2 = np.array([])\n",
    "rho = np.array([])\n",
    "delN = np.array([])\n",
    "for line in lines[1:]:\n",
    "    p = line.split()\n",
    "    u = np.append(u,float(p[0]))\n",
    "    N = np.append(N,float(p[19]))\n",
    "    N2 = np.append(N2, float(p[21]))\n",
    "    rho = np.append(rho, float(p[23]))\n",
    "    delN = np.append(delN,float(p[20]))\n",
    "f2.close()\n",
    "ind = np.argsort(u)\n",
    "uAr = u[ind]\n",
    "uAr = np.delete(uAr,8)\n",
    "N = N[ind]\n",
    "N = np.delete(N,8)\n",
    "#print(N)\n",
    "N2 = N2[ind]\n",
    "N2 = np.delete(N2,8)\n",
    "#print(N2)\n",
    "rho = rho[ind]\n",
    "delN = delN[ind]\n",
    "kAr = np.divide((N2 - N**2),N**2)\n",
    "#print(N2[8] - N[8]**2)\n",
    "kAr = kAr/(2)\n",
    "kAr = kAr/max(kAr)\n",
    "#print(kAr)\n",
    "PAr = hel.pressure(uAr,2)\n",
    "PArmax = max(PAr)\n",
    "PArmin = min(PAr)\n",
    "PArPlot = (PAr - PArmin)/PArmax\n",
    "print(PArPlot)\n",
    "#print(max(PArPlot))\n",
    "\n",
    "f2 = open('../data/pimc/MgR8/estimator-u-reduce.dat','r')\n",
    "lines = f2.readlines()\n",
    "u = np.array([])\n",
    "N = np.array([])\n",
    "N2 = np.array([])\n",
    "rho = np.array([])\n",
    "delN = np.array([])\n",
    "for line in lines[1:]:\n",
    "    p = line.split()\n",
    "    u = np.append(u,float(p[0]))\n",
    "    N = np.append(N,float(p[19]))\n",
    "    N2 = np.append(N2, float(p[21]))\n",
    "    rho = np.append(rho, float(p[23]))\n",
    "    delN = np.append(delN,float(p[20]))\n",
    "f2.close()\n",
    "ind = np.argsort(u)\n",
    "uMg = u[ind]\n",
    "N = N[ind]\n",
    "N2 = N2[ind]\n",
    "rho = rho[ind]\n",
    "delN = delN[ind]\n",
    "kMg = np.divide((N2 - N**2),N**2)\n",
    "kMg = kMg/(2)\n",
    "kMg = kMg/max(kMg)\n",
    "PMg = hel.pressure(uMg,2)\n",
    "PMgmax = max(PMg)\n",
    "PMgmin = min(PMg)\n",
    "PMgPlot = (PMg - PMgmin)/PMgmax"
   ]
  },
  {
   "cell_type": "code",
   "execution_count": 6,
   "id": "3828c44d-e339-496b-a618-43811be627d0",
   "metadata": {},
   "outputs": [
    {
     "data": {
      "image/png": "[encoded data removed]",
      "text/plain": [
       "<Figure size 340.39x210.373 with 1 Axes>"
      ]
     },
     "metadata": {},
     "output_type": "display_data"
    }
   ],
   "source": [
    "with plt.style.context('aps'):\n",
    "    figsize = plt.rcParams['figure.figsize']\n",
    "    fig,ax = plt.subplots(figsize=(figsize[0],figsize[1]), constrained_layout=True)\n",
    "    ax.semilogx(PArPlot,kAr,label=r'Ar',color='#D7414E')\n",
    "    ax.semilogx(PMgPlot,kMg,label=r'Mg',color='#79C9A4')\n",
    "    ax.semilogx(PCsPlot,kCs,label=r'Cs',color='#5E4FA2')\n",
    "    ax.set_ylabel(r'$\\kappa_T/V \\text{ } [\\rm K^{-1}]$',fontsize=10)\n",
    "    ax.set_xlabel(r'$(P - P_{\\rm min})/P_{\\rm max}$')\n",
    "    ax.set_xlim(1e-18,0.9)\n",
    "    plt.legend(title=\"R = 8 Å\",handlelength=1)\n",
    "    #plt.show()\n",
    "    plt.savefig('../figures/KvsPR8.pdf')"
   ]
  },
  {
   "cell_type": "code",
   "execution_count": null,
   "id": "bef5f077-784d-4339-99fa-63b9b6847cdb",
   "metadata": {},
   "outputs": [],
   "source": []
  },
  {
   "cell_type": "code",
   "execution_count": null,
   "id": "4493004a-50ee-4b10-b61a-7cb8cb2d96ae",
   "metadata": {},
   "outputs": [],
   "source": []
  }
 ],
 "metadata": {
  "kernelspec": {
   "display_name": "Python 3 (ipykernel)",
   "language": "python",
   "name": "python3"
  },
  "language_info": {
   "codemirror_mode": {
    "name": "ipython",
    "version": 3
   },
   "file_extension": ".py",
   "mimetype": "text/x-python",
   "name": "python",
   "nbconvert_exporter": "python",
   "pygments_lexer": "ipython3",
   "version": "3.10.12"
  }
 },
 "nbformat": 4,
 "nbformat_minor": 5
}
