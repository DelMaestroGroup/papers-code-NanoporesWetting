{
 "cells": [
  {
   "cell_type": "code",
   "execution_count": 19,
   "metadata": {},
   "outputs": [],
   "source": [
    "import matplotlib as mpl\n",
    "import matplotlib.pyplot as plt\n",
    "import mpl_toolkits\n",
    "from mpl_toolkits.mplot3d import Axes3D\n",
    "from matplotlib.collections import PolyCollection\n",
    "from mpl_toolkits.mplot3d.art3d import Poly3DCollection\n",
    "from matplotlib import colors as mcolors\n",
    "import numpy as np\n",
    "import scipy.integrate as intgr\n",
    "import matplotlib.ticker as mtick\n",
    "from itertools import product\n",
    "from collections import defaultdict\n"
   ]
  },
  {
   "cell_type": "code",
   "execution_count": 3,
   "metadata": {},
   "outputs": [],
   "source": [
    "plt.style.use('../include/aps.mplstyle')\n",
    "mpl.rcParams[\"figure.figsize\"] = [3.4039, 2.10373]\n",
    "rm = 2.9673;"
   ]
  },
  {
   "cell_type": "markdown",
   "metadata": {},
   "source": [
    "### Radii and Elements Under Consideration"
   ]
  },
  {
   "cell_type": "code",
   "execution_count": 30,
   "metadata": {},
   "outputs": [],
   "source": [
    "Rs = [4.0, 5.0, 6.0, 8.0, 10.0, 12.0]\n",
    "elements = ['Ar', 'Mg', 'Cs']\n",
    "element_colors = {'Ar':'#D7414E', 'Mg':'#79C9A4', 'Cs':'#5E4FA2'}\n",
    "def ψ_filename(R, element):\n",
    "    return f'../data/Relaxation/Radial-wavefunction-{element}R{int(R)}.npz'"
   ]
  },
  {
   "cell_type": "code",
   "execution_count": null,
   "metadata": {},
   "outputs": [],
   "source": [
    "def normalize_psi_PIMC(psi, x):\n",
    "   int_psi_square = 2*np.pi*25*intgr.simpson(y = x*psi, x = x)\n",
    "   print (\"Norm = \" + str(int_psi_square))\n",
    "   return int_psi_square\n",
    "\n",
    "\n",
    "def radial_ave(ψ,X,Y):\n",
    "\n",
    "    x = X[0,:]\n",
    "    y = Y[:,0]\n",
    "    N = X.shape[0]\n",
    "    dx = X[1,0]-X[0,0]\n",
    "    dR = np.sqrt(2*dx**2)\n",
    "    dϕ = 2*π/N\n",
    "    r_vals = np.arange(0, R, dR)\n",
    "    ϕ_vals = np.arange(0, 2*π, dϕ)\n",
    "\n",
    "    if len(r_vals)*len(ϕ_vals) > N**2:\n",
    "        print(\"Warning: Oversampling\")\n",
    "\n",
    "    # Initialize data on polar grid with fill values\n",
    "    fill_value = -9999.0\n",
    "    data_polar = fill_value*np.ones((len(r_vals), len(ϕ_vals)))\n",
    "\n",
    "    # Define radius of influence. A nearest neighbour outside this radius will not\n",
    "    # be taken into account.\n",
    "    radius_of_influence = np.sqrt(0.1**2 + 0.1**2)\n",
    "\n",
    "    # For each cell in the polar grid, find the nearest neighbour in the cartesian\n",
    "    # grid. If it lies within the radius of influence, transfer the corresponding\n",
    "    # data.\n",
    "    for r, row_polar in zip(r_vals, range(len(r_vals))):\n",
    "        for ϕ, col_polar in zip(ϕ_vals, range(len(ϕ_vals))):\n",
    "            # Transform polar to cartesian\n",
    "            _x = r*np.cos(ϕ)\n",
    "            _y = r*np.sin(ϕ)\n",
    "\n",
    "            # Find nearest neighbour in cartesian grid\n",
    "            d = np.sqrt((_x-X)**2 + (_y-Y)**2)\n",
    "            nn_row_cart, nn_col_cart = np.unravel_index(np.argmin(d), d.shape)\n",
    "            dmin = d[nn_row_cart, nn_col_cart]\n",
    "\n",
    "            # Transfer data\n",
    "            if dmin <= radius_of_influence:\n",
    "                data_polar[row_polar, col_polar] = ψ[nn_row_cart, nn_col_cart]\n",
    "\n",
    "    # Mask remaining fill values\n",
    "    data_polar = np.ma.masked_equal(data_polar, fill_value)\n",
    "\n",
    "    return r_vals, np.average(data_polar,axis=1)"
   ]
  },
  {
   "cell_type": "code",
   "execution_count": 32,
   "metadata": {},
   "outputs": [],
   "source": [
    "def cc(arg):\n",
    "    return mcolors.to_rgba(arg,alpha=0.6)"
   ]
  },
  {
   "cell_type": "markdown",
   "metadata": {},
   "source": [
    "### Load the ground state data from disk"
   ]
  },
  {
   "cell_type": "code",
   "execution_count": 124,
   "metadata": {},
   "outputs": [
    {
     "name": "stdout",
     "output_type": "stream",
     "text": [
      "Norm = 1.9943041040885479\n",
      "Norm = 2.012019301825279\n",
      "Norm = 2.024150715245431\n",
      "Norm = 1.9800310251346966\n",
      "Norm = 2.1046567393856987\n",
      "Norm = 1.9415150846487308\n",
      "Norm = 2.010337365927424\n",
      "Norm = 1.993634737869944\n",
      "Norm = 2.0064659361227046\n",
      "Norm = 2.0067059874964754\n",
      "Norm = 1.958938157067764\n",
      "Norm = 2.016635750803403\n",
      "Norm = 2.0424958295357984\n",
      "Norm = 2.0093979071313233\n",
      "Norm = 1.997469735916623\n",
      "Norm = 1.9989870399327152\n",
      "Norm = 1.9990406105038216\n",
      "Norm = 2.0072822408958575\n"
     ]
    }
   ],
   "source": [
    "verts = defaultdict(list)\n",
    "poly = {}\n",
    "\n",
    "for element in elements:\n",
    "    for R in Rs:\n",
    "        with np.load(ψ_filename(R,element)) as f:\n",
    "            rval = f['arr_0']\n",
    "            radial = f['arr_1']\n",
    "        normalize_psi_PIMC(radial,rval)\n",
    "        rval = np.insert(rval, 0, -0.1) \n",
    "        radial = np.insert(radial, 0, 0)\n",
    "        radial[-1] = 0\n",
    "    \n",
    "        verts[element].append(list(zip(rval, radial)))\n",
    "\n",
    "    poly[element] = PolyCollection(verts[element],facecolors=[cc(element_colors[element])]*len(Rs),\n",
    "                                   edgecolors=element_colors[element],linewidths=0.5,alpha=0.6)\n"
   ]
  },
  {
   "cell_type": "markdown",
   "metadata": {},
   "source": [
    "## Create the 3D Waterfall Plot"
   ]
  },
  {
   "cell_type": "code",
   "execution_count": 121,
   "metadata": {},
   "outputs": [],
   "source": [
    "# Define the triangle vertices in 3D (z=0 means it's on the \"bottom\" plane)\n",
    "triangle_vertices = np.array([\n",
    "    [4.0, 4.0, 0.0],\n",
    "    [11.0, 4.0, 0.0],\n",
    "    [11.0, 12.0, 0.0]\n",
    "])\n",
    "\n",
    "# Prepare the triangle as a Poly3DCollection\n",
    "vertstr = [list(triangle_vertices)]"
   ]
  },
  {
   "cell_type": "code",
   "execution_count": null,
   "metadata": {},
   "outputs": [],
   "source": [
    "with plt.style.context('../include/aps.mplstyle'):\n",
    "    figsize = plt.rcParams['figure.figsize']\n",
    "    fig= plt.figure(figsize=(2*figsize[0],figsize[1]),constrained_layout=True)\n",
    "\n",
    "    ax1 = fig.add_subplot(131,projection='3d')\n",
    "    ax1.add_collection3d(poly['Ar'], zs=Rs, zdir='y')\n",
    "    triangle1 = Poly3DCollection(vertstr, facecolor='#C0C0C0', edgecolor='#C0C0C0')\n",
    "    ax1.add_collection3d(triangle1)\n",
    "    ax1.set_xlabel(r'$r$ [Å]',labelpad=-10)\n",
    "    ax1.set_xlim3d(-0.1, 11)\n",
    "    ax1.set_ylabel(r'$R$ [Å]',labelpad=-6)\n",
    "    ax1.set_ylim3d(4.0, 12.0)\n",
    "    ax1.set_zlim3d(0, 0.0125)\n",
    "    ax1.tick_params(pad=-5)\n",
    "    ax1.tick_params(axis='z',pad=2)\n",
    "    ax1.text(3,12.0,0.007,r'$^4$He/Ar','x',color='k')\n",
    "    \n",
    "    ax2 = fig.add_subplot(132,projection='3d')\n",
    "    triangle2 = Poly3DCollection(vertstr, facecolor='#C0C0C0', edgecolor='#C0C0C0')\n",
    "    ax2.add_collection3d(poly['Mg'], zs=Rs, zdir='y')\n",
    "    ax2.add_collection3d(triangle2)\n",
    "    ax2.set_xlabel(r'$r$ [Å]',labelpad=-10,size='x-small')\n",
    "    ax2.set_xlim3d(-0.1, 11)\n",
    "    ax2.set_ylabel(r'$R$ [Å]',labelpad=-6,size='x-small')\n",
    "    ax2.set_ylim3d(4.0, 12.0)\n",
    "    ax2.set_zlim3d(0, 0.02)\n",
    "    ax2.text(3,12.0,0.009,r'$^4$He/Mg','x',color='k')\n",
    "    ax2.tick_params(pad=-5)\n",
    "    ax2.tick_params(axis='z',pad=2)\n",
    "\n",
    "    ax3 = fig.add_subplot(133,projection='3d')\n",
    "    triangle3 = Poly3DCollection(vertstr, facecolor='#C0C0C0', edgecolor='#C0C0C0')\n",
    "    ax3.add_collection3d(poly['Cs'], zs=Rs, zdir='y')\n",
    "    ax3.add_collection3d(triangle3)\n",
    "    ax3.set_xlabel(r'$r$ [Å]',labelpad=-10)\n",
    "    ax3.set_xlim3d(-0.1, 11)\n",
    "    ax3.set_ylabel(r'$R$ [Å]',labelpad=-6)\n",
    "    ax3.set_ylim3d(4.0, 12.0)\n",
    "    ax3.set_zlim3d(0, 0.03)\n",
    "    ax3.text(3,12.0,0.012,r'$^4$He/Cs','x',color='k')\n",
    "    ax3.tick_params(pad=-5)\n",
    "    ax3.tick_params(axis='z',pad=2)\n",
    "    \n",
    "    # Add panel labels\n",
    "    ax1.text2D(0.1, 0.85, \"(a)\", transform=ax1.transAxes,ha=\"left\", va=\"bottom\")\n",
    "    ax2.text2D(0.1, 0.85, \"(b)\", transform=ax2.transAxes,ha=\"left\", va=\"bottom\")\n",
    "    ax3.text2D(0.1, 0.85, \"(c)\", transform=ax3.transAxes,ha=\"left\", va=\"bottom\")\n",
    "\n",
    "    # Add labels for the density\n",
    "    ax1.text2D(0.85, 0.82, r\"$\\rho(r)\\;\\; [{\\rm\\AA^{-3}}]$\", transform=ax1.transAxes,ha=\"left\", va=\"bottom\")\n",
    "    ax2.text2D(0.84, 0.82, r\"$\\rho(r)\\;\\; [{\\rm\\AA^{-3}}]$\", transform=ax2.transAxes,ha=\"left\", va=\"bottom\")\n",
    "    ax3.text2D(0.83, 0.82, r\"$\\rho(r)\\;\\; [{\\rm\\AA^{-3}}]$\", transform=ax3.transAxes,ha=\"left\", va=\"bottom\")\n",
    "    \n",
    "    plt.savefig('../figures/Waterfalls.pdf')\n",
    "    \n",
    "    ax1.cla()\n",
    "    ax2.cla()\n",
    "    ax3.cla()"
   ]
  }
 ],
 "metadata": {
  "kernelspec": {
   "display_name": "base",
   "language": "python",
   "name": "python3"
  },
  "language_info": {
   "codemirror_mode": {
    "name": "ipython",
    "version": 3
   },
   "file_extension": ".py",
   "mimetype": "text/x-python",
   "name": "python",
   "nbconvert_exporter": "python",
   "pygments_lexer": "ipython3",
   "version": "3.12.11"
  }
 },
 "nbformat": 4,
 "nbformat_minor": 4
}
